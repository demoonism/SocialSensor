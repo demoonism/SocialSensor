{
 "cells": [
  {
   "cell_type": "code",
   "execution_count": 1,
   "metadata": {
    "collapsed": false
   },
   "outputs": [
    {
     "name": "stdout",
     "output_type": "stream",
     "text": [
      "{u'contributors': None,\n",
      " u'coordinates': None,\n",
      " u'created_at': u'Thu Jan 31 12:58:06 +0000 2013',\n",
      " u'entities': {u'hashtags': [],\n",
      "               u'urls': [],\n",
      "               u'user_mentions': [{u'id': 560025417,\n",
      "                                   u'id_str': u'560025417',\n",
      "                                   u'indices': [3, 13],\n",
      "                                   u'name': u'Chris | Feb 1st .',\n",
      "                                   u'screen_name': u'ObeyChris'}]},\n",
      " u'favorited': False,\n",
      " u'geo': None,\n",
      " u'id': 296965581591179264,\n",
      " u'id_str': u'296965581591179264',\n",
      " u'in_reply_to_screen_name': None,\n",
      " u'in_reply_to_status_id': None,\n",
      " u'in_reply_to_status_id_str': None,\n",
      " u'in_reply_to_user_id': None,\n",
      " u'in_reply_to_user_id_str': None,\n",
      " u'lang': u'en',\n",
      " u'place': None,\n",
      " u'retweet_count': 0,\n",
      " u'retweeted': False,\n",
      " u'retweeted_status': {u'contributors': None,\n",
      "                       u'coordinates': None,\n",
      "                       u'created_at': u'Thu Jan 31 12:55:41 +0000 2013',\n",
      "                       u'entities': {u'hashtags': [],\n",
      "                                     u'urls': [],\n",
      "                                     u'user_mentions': []},\n",
      "                       u'favorited': True,\n",
      "                       u'geo': None,\n",
      "                       u'id': 296964973702299648,\n",
      "                       u'id_str': u'296964973702299648',\n",
      "                       u'in_reply_to_screen_name': None,\n",
      "                       u'in_reply_to_status_id': None,\n",
      "                       u'in_reply_to_status_id_str': None,\n",
      "                       u'in_reply_to_user_id': None,\n",
      "                       u'in_reply_to_user_id_str': None,\n",
      "                       u'lang': u'en',\n",
      "                       u'place': None,\n",
      "                       u'retweet_count': 5,\n",
      "                       u'retweeted': True,\n",
      "                       u'source': u'web',\n",
      "                       u'text': u\"I don't believe in that lovey dovey shit yo.\",\n",
      "                       u'truncated': False,\n",
      "                       u'user': {u'contributors_enabled': False,\n",
      "                                 u'created_at': u'Sat Apr 21 23:59:56 +0000 2012',\n",
      "                                 u'default_profile': False,\n",
      "                                 u'default_profile_image': False,\n",
      "                                 u'description': u'OGOD or nothing . Recording Artist. Musician. Music flows through my veins. Contact Info: ChrisRobinson@ObeyChris.com',\n",
      "                                 u'favourites_count': 1854,\n",
      "                                 u'follow_request_sent': None,\n",
      "                                 u'followers_count': 142336,\n",
      "                                 u'following': None,\n",
      "                                 u'friends_count': 11068,\n",
      "                                 u'geo_enabled': False,\n",
      "                                 u'id': 560025417,\n",
      "                                 u'id_str': u'560025417',\n",
      "                                 u'is_translator': False,\n",
      "                                 u'lang': u'en',\n",
      "                                 u'listed_count': 5,\n",
      "                                 u'location': u'DM[V]',\n",
      "                                 u'name': u'Chris | Feb 1st .',\n",
      "                                 u'notifications': None,\n",
      "                                 u'profile_background_color': u'000000',\n",
      "                                 u'profile_background_image_url': u'http://a0.twimg.com/profile_background_images/770048036/997d5df6f3fc66784ae5178edf4bcd30.jpeg',\n",
      "                                 u'profile_background_image_url_https': u'https://si0.twimg.com/profile_background_images/770048036/997d5df6f3fc66784ae5178edf4bcd30.jpeg',\n",
      "                                 u'profile_background_tile': False,\n",
      "                                 u'profile_banner_url': u'https://si0.twimg.com/profile_banners/560025417/1357531720',\n",
      "                                 u'profile_image_url': u'http://a0.twimg.com/profile_images/3163549129/13dc85ec584d24b7e1974e3ec58f0227_normal.jpeg',\n",
      "                                 u'profile_image_url_https': u'https://si0.twimg.com/profile_images/3163549129/13dc85ec584d24b7e1974e3ec58f0227_normal.jpeg',\n",
      "                                 u'profile_link_color': u'423D3D',\n",
      "                                 u'profile_sidebar_border_color': u'000000',\n",
      "                                 u'profile_sidebar_fill_color': u'EFEFEF',\n",
      "                                 u'profile_text_color': u'333333',\n",
      "                                 u'profile_use_background_image': True,\n",
      "                                 u'protected': False,\n",
      "                                 u'screen_name': u'ObeyChris',\n",
      "                                 u'statuses_count': 18286,\n",
      "                                 u'time_zone': u'Atlantic Time (Canada)',\n",
      "                                 u'url': u'http://ObeyChris.com',\n",
      "                                 u'utc_offset': -14400,\n",
      "                                 u'verified': False}},\n",
      " u'source': u'<a href=\"http://twitter.com/download/iphone\" rel=\"nofollow\">Twitter for iPhone</a>',\n",
      " u'text': u\"RT @ObeyChris: I don't believe in that lovey dovey shit yo.\",\n",
      " u'truncated': False,\n",
      " u'user': {u'contributors_enabled': False,\n",
      "           u'created_at': u'Mon Dec 24 00:15:52 +0000 2012',\n",
      "           u'default_profile': True,\n",
      "           u'default_profile_image': False,\n",
      "           u'description': u\"I follow back so follow me ok :-) and follow @athenashaw11 too :')\",\n",
      "           u'favourites_count': 2222,\n",
      "           u'follow_request_sent': None,\n",
      "           u'followers_count': 506,\n",
      "           u'following': None,\n",
      "           u'friends_count': 506,\n",
      "           u'geo_enabled': False,\n",
      "           u'id': 1031596070,\n",
      "           u'id_str': u'1031596070',\n",
      "           u'is_translator': False,\n",
      "           u'lang': u'en',\n",
      "           u'listed_count': 0,\n",
      "           u'location': u'Wimberley, Texas',\n",
      "           u'name': u'Zoe Shaw',\n",
      "           u'notifications': None,\n",
      "           u'profile_background_color': u'C0DEED',\n",
      "           u'profile_background_image_url': u'http://a0.twimg.com/images/themes/theme1/bg.png',\n",
      "           u'profile_background_image_url_https': u'https://si0.twimg.com/images/themes/theme1/bg.png',\n",
      "           u'profile_background_tile': False,\n",
      "           u'profile_banner_url': u'https://si0.twimg.com/profile_banners/1031596070/1359346592',\n",
      "           u'profile_image_url': u'http://a0.twimg.com/profile_images/3173099278/a9e4a3feeeb70aebbb629a7c742c2cc2_normal.jpeg',\n",
      "           u'profile_image_url_https': u'https://si0.twimg.com/profile_images/3173099278/a9e4a3feeeb70aebbb629a7c742c2cc2_normal.jpeg',\n",
      "           u'profile_link_color': u'0084B4',\n",
      "           u'profile_sidebar_border_color': u'C0DEED',\n",
      "           u'profile_sidebar_fill_color': u'DDEEF6',\n",
      "           u'profile_text_color': u'333333',\n",
      "           u'profile_use_background_image': True,\n",
      "           u'protected': False,\n",
      "           u'screen_name': u'zoeshaw16',\n",
      "           u'statuses_count': 1562,\n",
      "           u'time_zone': None,\n",
      "           u'url': None,\n",
      "           u'utc_offset': None,\n",
      "           u'verified': False}}\n"
     ]
    }
   ],
   "source": [
    "import json\n",
    "from pprint import pprint\n",
    "\n",
    "with open('test2') as data_file:    \n",
    "    data = json.load(data_file)\n",
    "\n",
    "pprint(data)"
   ]
  },
  {
   "cell_type": "code",
   "execution_count": 4,
   "metadata": {
    "collapsed": false
   },
   "outputs": [],
   "source": [
    "import ijson\n",
    "\n",
    "filename = \"test2\"\n",
    "with open(filename, 'r') as f:\n",
    "    objects = ijson.items(f, 'created_at')\n",
    "    columns = list(objects)"
   ]
  },
  {
   "cell_type": "code",
   "execution_count": 5,
   "metadata": {
    "collapsed": false
   },
   "outputs": [
    {
     "data": {
      "text/plain": [
       "[u'Thu Jan 31 12:58:06 +0000 2013']"
      ]
     },
     "execution_count": 5,
     "metadata": {},
     "output_type": "execute_result"
    }
   ],
   "source": [
    "columns"
   ]
  },
  {
   "cell_type": "code",
   "execution_count": null,
   "metadata": {
    "collapsed": true
   },
   "outputs": [],
   "source": []
  }
 ],
 "metadata": {
  "kernelspec": {
   "display_name": "Python 2",
   "language": "python",
   "name": "python2"
  },
  "language_info": {
   "codemirror_mode": {
    "name": "ipython",
    "version": 2
   },
   "file_extension": ".py",
   "mimetype": "text/x-python",
   "name": "python",
   "nbconvert_exporter": "python",
   "pygments_lexer": "ipython2",
   "version": "2.7.5"
  }
 },
 "nbformat": 4,
 "nbformat_minor": 1
}
