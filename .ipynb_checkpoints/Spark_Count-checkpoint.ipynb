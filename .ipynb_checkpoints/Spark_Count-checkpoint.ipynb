{
 "cells": [
  {
   "cell_type": "code",
   "execution_count": 1,
   "metadata": {
    "collapsed": false,
    "scrolled": true
   },
   "outputs": [
    {
     "name": "stderr",
     "output_type": "stream",
     "text": [
      "/usr/lib64/python2.7/site-packages/matplotlib/font_manager.py:273: UserWarning: Matplotlib is building the font cache using fc-list. This may take a moment.\n",
      "  warnings.warn('Matplotlib is building the font cache using fc-list. This may take a moment.')\n"
     ]
    }
   ],
   "source": [
    "from pyspark.sql import SQLContext\n",
    "from pyspark.sql.types import *\n",
    "from pyspark.sql import Row\n",
    "from pyspark.mllib.regression import LabeledPoint\n",
    "from pyspark.sql.functions import udf\n",
    "from pyspark.mllib.linalg import Vectors\n",
    "from pyspark.ml.classification import LogisticRegression\n",
    "from pyspark.ml.param import Param, Params\n",
    "from pyspark.mllib.classification import LogisticRegressionWithLBFGS, LogisticRegressionModel\n",
    "from pyspark.mllib.regression import LabeledPoint\n",
    "from pyspark.mllib.stat import Statistics\n",
    "from pyspark.ml.feature import OneHotEncoder, StringIndexer\n",
    "from pyspark.mllib.linalg import Vectors\n",
    "from pyspark.ml.feature import VectorAssembler\n",
    "from IPython.display import display\n",
    "from ipywidgets import interact\n",
    "import sys\n",
    "import numpy as np\n",
    "import pandas as pd\n",
    "import time\n",
    "import datetime\n",
    "import matplotlib.pyplot as plt\n",
    "import os.path\n",
    "%matplotlib inline"
   ]
  },
  {
   "cell_type": "code",
   "execution_count": 7,
   "metadata": {
    "collapsed": true
   },
   "outputs": [],
   "source": [
    "import json"
   ]
  },
  {
   "cell_type": "code",
   "execution_count": 3,
   "metadata": {
    "collapsed": true
   },
   "outputs": [],
   "source": [
    "data_raw = sc.textFile('/mnt/66e695cd-1a0c-4e3b-9a50-55e01b788529/Tweet_Output/2013-06/')"
   ]
  },
  {
   "cell_type": "code",
   "execution_count": 4,
   "metadata": {
    "collapsed": true
   },
   "outputs": [],
   "source": [
    "data = data_raw.map(lambda line: json.loads(line))"
   ]
  },
  {
   "cell_type": "code",
   "execution_count": 8,
   "metadata": {
    "collapsed": false
   },
   "outputs": [
    {
     "data": {
      "text/plain": [
       "{u'day': u'15',\n",
       " u'dow': u'Sat',\n",
       " u'from_user': u'FaraHERE',\n",
       " u'hashtag': [u'SOLAA'],\n",
       " u'lang': u'es',\n",
       " u'location': [u'loc_'],\n",
       " u'mention': [],\n",
       " u'month': u'Jun',\n",
       " u'term': [u'\\xbfQu\\xe9',\n",
       "  u'haces',\n",
       "  u'cuando',\n",
       "  u'est\\xe1s',\n",
       "  u'en',\n",
       "  u'casa',\n",
       "  u'solo?',\n",
       "  u'\\u2014',\n",
       "  u\"-OFiCiOS'\",\n",
       "  u'\\u2665',\n",
       "  u';:_',\n",
       "  u'AMO',\n",
       "  u'HACERLOS',\n",
       "  u\"PERO'\",\n",
       "  u\"CUANDOO'\",\n",
       "  u'ESTOOi',\n",
       "  u'PRECiSAMENTE',\n",
       "  u\"#SOLAA'\",\n",
       "  u'...',\n",
       "  u'http://t.co/mW66LPBZaF'],\n",
       " u'time': u'00:58:19',\n",
       " u'year': u'2013'}"
      ]
     },
     "execution_count": 8,
     "metadata": {},
     "output_type": "execute_result"
    }
   ],
   "source": [
    "data.first()"
   ]
  },
  {
   "cell_type": "code",
   "execution_count": 19,
   "metadata": {
    "collapsed": true
   },
   "outputs": [],
   "source": [
    "feature = data.map(lambda line:  line['year'])"
   ]
  },
  {
   "cell_type": "code",
   "execution_count": 20,
   "metadata": {
    "collapsed": false
   },
   "outputs": [
    {
     "data": {
      "text/plain": [
       "u'2013'"
      ]
     },
     "execution_count": 20,
     "metadata": {},
     "output_type": "execute_result"
    }
   ],
   "source": [
    "feature.first()"
   ]
  },
  {
   "cell_type": "code",
   "execution_count": 21,
   "metadata": {
    "collapsed": true
   },
   "outputs": [],
   "source": [
    "def parser(r):\n",
    "    try:\n",
    "        x=Row(Year=int(r['year']),\\\n",
    "          Month=r['month'],\\\n",
    "          DayofMonth=int(r['day']),\\\n",
    "          DayOfWeek=r['dow'],\\\n",
    "          UserName= r['from_user'], \\\n",
    "          Hashtag= r['hashtag'],\\\n",
    "          Language=r['lang'],\\\n",
    "          Location=r['location'], \\\n",
    "          Mention=r['mention'],\\\n",
    "          Term=r['term'],\\\n",
    "          Time=r['time'])  \n",
    "    except:\n",
    "        x=None  \n",
    "    return x\n",
    "\n",
    "rowRDD = data.map(lambda r: parser(r))\n"
   ]
  },
  {
   "cell_type": "code",
   "execution_count": 22,
   "metadata": {
    "collapsed": false
   },
   "outputs": [],
   "source": [
    "Feature_df = sqlContext.createDataFrame(rowRDD)"
   ]
  },
  {
   "cell_type": "code",
   "execution_count": 23,
   "metadata": {
    "collapsed": false,
    "scrolled": true
   },
   "outputs": [
    {
     "data": {
      "text/plain": [
       "[Row(DayOfWeek=u'Sat', DayofMonth=15, Hashtag=[u'SOLAA'], Language=u'es', Location=[u'loc_'], Mention=[], Month=u'Jun', Term=[u'\\xbfQu\\xe9', u'haces', u'cuando', u'est\\xe1s', u'en', u'casa', u'solo?', u'\\u2014', u\"-OFiCiOS'\", u'\\u2665', u';:_', u'AMO', u'HACERLOS', u\"PERO'\", u\"CUANDOO'\", u'ESTOOi', u'PRECiSAMENTE', u\"#SOLAA'\", u'...', u'http://t.co/mW66LPBZaF'], Time=u'00:58:19', UserName=u'FaraHERE', Year=2013),\n",
       " Row(DayOfWeek=u'Sat', DayofMonth=15, Hashtag=[u'bastadecasiangeles'], Language=u'es', Location=[u'loc_Bs', u'loc_As'], Mention=[], Month=u'Jun', Term=[u'#bastadecasiangeles'], Time=u'00:58:19', UserName=u'baschi_', Year=2013),\n",
       " Row(DayOfWeek=u'Sat', DayofMonth=15, Hashtag=[u'TIGERS'], Language=u'en', Location=[u'loc_Detroit,', u'loc_MI'], Mention=[], Month=u'Jun', Term=[u'Tigers', u'at', u'Twins', u'has', u'started.', u'Starting', u'Pitchers:', u'DET', u'R', u'Porcello', u'vs.', u'MIN', u'S', u'Diamond', u'(ESPN)', u'http://t.co/SAE31CTHYp', u'LETS', u'GO', u'#TIGERS!'], Time=u'00:58:19', UserName=u'DetroitLovesY0U', Year=2013),\n",
       " Row(DayOfWeek=u'Sat', DayofMonth=15, Hashtag=[u'FiberIQ'], Language=u'en', Location=[u'loc_Shining', u'loc_Tree,', u'loc_Ontario', u'loc_Canada'], Mention=[{u'indices': [73, 80], u'id_str': None, u'screen_name': None, u'name': None, u'id': None}], Month=u'Jun', Term=[u'How', u'well', u'do', u'you', u'know', u'fiber?', u'Take', u'this', u'quiz', u'and', u'be', u'entered', u'to', u'win', u'a', u'great', u'@Konsyl', u'fiber', u'prize', u'pack!', u'#FiberIQ', u'http://t.co/KUrwb6GuKn'], Time=u'00:58:19', UserName=u'jjcapin', Year=2013),\n",
       " Row(DayOfWeek=u'Sat', DayofMonth=15, Hashtag=[u'sav'], Language=u'es', Location=[u'loc_Chile', u'loc_'], Mention=[{u'indices': [3, 15], u'id_str': None, u'screen_name': None, u'name': None, u'id': None}, {u'indices': [55, 69], u'id_str': None, u'screen_name': None, u'name': None, u'id': None}], Month=u'Jun', Term=[u'RT', u'@PamelaLeRoy:', u'Hoy', u'despedimos', u'a', u'la', u'cata', u'Palacios', u'y', u'a', u'@fernandezjavi', u'en', u'#sav', u'Gran', u'aporte', u'chiquillos,', u'hasta', u'pronto!'], Time=u'00:58:19', UserName=u'Fannyteadoro', Year=2013)]"
      ]
     },
     "execution_count": 23,
     "metadata": {},
     "output_type": "execute_result"
    }
   ],
   "source": [
    "Feature_df.head(5)"
   ]
  },
  {
   "cell_type": "code",
   "execution_count": null,
   "metadata": {
    "collapsed": true
   },
   "outputs": [],
   "source": []
  }
 ],
 "metadata": {
  "kernelspec": {
   "display_name": "Python 2",
   "language": "python",
   "name": "python2"
  },
  "language_info": {
   "codemirror_mode": {
    "name": "ipython",
    "version": 2
   },
   "file_extension": ".py",
   "mimetype": "text/x-python",
   "name": "python",
   "nbconvert_exporter": "python",
   "pygments_lexer": "ipython2",
   "version": "2.7.5"
  }
 },
 "nbformat": 4,
 "nbformat_minor": 1
}
