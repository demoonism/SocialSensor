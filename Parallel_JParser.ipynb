{
 "cells": [
  {
   "cell_type": "code",
   "execution_count": 64,
   "metadata": {
    "collapsed": false
   },
   "outputs": [
    {
     "name": "stdout",
     "output_type": "stream",
     "text": [
      "100000\n"
     ]
    }
   ],
   "source": [
    "import gzip\n",
    "import pandas as pd\n",
    "import json\n",
    "\n",
    "\n",
    "jsonfilename = '/home/danielshi/tw_pyspark/Sample/statuses.log.2014-07-01-00.gz'\n",
    "\n",
    "tweets = []\n",
    "\n",
    "with gzip.open(jsonfilename,'r') as fin:\n",
    "    counter = 0\n",
    "    for line in fin:\n",
    "        d = json.loads(line)  # more effecient way would be check the line validity before loading\n",
    "        if len(d) == 24 and len(d['entities']['hashtags']): ## explicit booleaness to check is a list is empty\n",
    "            tweets.append(d)\n",
    "            if counter % 50000 ==0:\n",
    "                print counter\n",
    "        counter+=1"
   ]
  },
  {
   "cell_type": "code",
   "execution_count": 65,
   "metadata": {
    "collapsed": false
   },
   "outputs": [
    {
     "data": {
      "text/plain": [
       "8413"
      ]
     },
     "execution_count": 65,
     "metadata": {},
     "output_type": "execute_result"
    }
   ],
   "source": [
    "len(tweets)"
   ]
  },
  {
   "cell_type": "code",
   "execution_count": 87,
   "metadata": {
    "collapsed": false
   },
   "outputs": [
    {
     "data": {
      "text/plain": [
       "{u'contributors': None,\n",
       " u'coordinates': None,\n",
       " u'created_at': u'Mon Jun 30 14:00:53 +0000 2014',\n",
       " u'entities': {u'hashtags': [{u'indices': [77, 84],\n",
       "    u'text': u'\\u76f8\\u4e92\\u30d5\\u30a9\\u30ed\\u30fc'},\n",
       "   {u'indices': [85, 101], u'text': u'sougo_follow_ja'},\n",
       "   {u'indices': [102, 107], u'text': u'foll'}],\n",
       "  u'symbols': [],\n",
       "  u'urls': [],\n",
       "  u'user_mentions': []},\n",
       " u'favorite_count': 0,\n",
       " u'favorited': False,\n",
       " u'filter_level': u'medium',\n",
       " u'geo': None,\n",
       " u'id': 483611132305743872,\n",
       " u'id_str': u'483611132305743872',\n",
       " u'in_reply_to_screen_name': None,\n",
       " u'in_reply_to_status_id': None,\n",
       " u'in_reply_to_status_id_str': None,\n",
       " u'in_reply_to_user_id': None,\n",
       " u'in_reply_to_user_id_str': None,\n",
       " u'lang': u'ja',\n",
       " u'place': None,\n",
       " u'retweet_count': 0,\n",
       " u'retweeted': False,\n",
       " u'source': u'<a href=\"http://www.twisuke.com\" rel=\"nofollow\">\\u30c4\\u30a4\\u52a9\\u3002</a>',\n",
       " u'text': u'\\u76f8\\u4e92\\u30d5\\u30a9\\u30ed\\u30fc\\u3092\\u3057\\u305f\\u3044\\u65b9\\u306e\\u305f\\u3081\\u306e\\u30a2\\u30ab\\u30a6\\u30f3\\u30c8\\u3067\\u3059\\u3002\\n\\u3053\\u306e\\u30a2\\u30ab\\u30a6\\u30f3\\u30c8\\u3092\\u30d5\\u30a9\\u30ed\\u30fc\\u30fb\\u3053\\u306e\\u30c4\\u30a4\\u30fc\\u30c8\\u3092RT\\u30fb\\u3053\\u306e\\u30a2\\u30ab\\u30a6\\u30f3\\u30c8\\u3092\\u30d5\\u30a9\\u30ed\\u30fc\\u3057\\u3066\\u3044 \\u308b\\u65b9\\u3092\\u30d5\\u30a9\\u30ed\\u30fc\\u3057\\u3066\\u304f\\u3060\\u3055\\u3044 #\\u76f8\\u4e92\\u30d5\\u30a9\\u30ed\\u30fc #sougo_follow_ja #foll owme',\n",
       " u'timestamp': 1404136853663,\n",
       " u'truncated': False,\n",
       " u'user': {u'contributors_enabled': False,\n",
       "  u'created_at': u'Sat Oct 05 10:37:21 +0000 2013',\n",
       "  u'default_profile': True,\n",
       "  u'default_profile_image': False,\n",
       "  u'description': u'\\u30d5\\u30a9\\u30ed\\u30ef\\u30fc\\u3092\\u5897\\u3084\\u3057\\u305f\\u3044!!\\u3068\\u3044\\u3046\\u65b9\\u306e\\u70ba\\u306e\\u30a2\\u30ab\\u30a6\\u30f3\\u30c8\\u3067\\u3059!!\\u30d5\\u30a9\\u30ed\\u30fc\\u3055\\u308c\\u3066\\u3044\\u308b\\u4eba\\u305f\\u3061\\u3092\\u30d5\\u30a9\\u30ed\\u30fc\\u3057\\u3066\\u304f\\u3060\\u3055\\u3044\\u3002\\u3010\\u30ea\\u30d5\\u30a9\\u30ed\\u30fc\\uff11\\uff10\\uff10\\uff05\\u3011\\u3010\\u62e1\\u6563\\u5e0c\\u671b\\u3011',\n",
       "  u'favourites_count': 0,\n",
       "  u'follow_request_sent': None,\n",
       "  u'followers_count': 16259,\n",
       "  u'following': None,\n",
       "  u'friends_count': 17883,\n",
       "  u'geo_enabled': False,\n",
       "  u'id': 1937234456,\n",
       "  u'id_str': u'1937234456',\n",
       "  u'is_translation_enabled': False,\n",
       "  u'is_translator': False,\n",
       "  u'lang': u'ja',\n",
       "  u'listed_count': 57,\n",
       "  u'location': u'\\u65e5\\u672c\\u3001Japan',\n",
       "  u'name': u'\\u30c8\\u30a5\\u30ae\\u30e3\\u30b6\\u30fc\\uff20\\u76f8\\u4e92\\u30d5\\u30a9\\u30ed\\u30fc\\uff11\\uff10\\uff10\\uff05',\n",
       "  u'notifications': None,\n",
       "  u'profile_background_color': u'C0DEED',\n",
       "  u'profile_background_image_url': u'http://abs.twimg.com/images/themes/theme1/bg.png',\n",
       "  u'profile_background_image_url_https': u'https://abs.twimg.com/images/themes/theme1/bg.png',\n",
       "  u'profile_background_tile': False,\n",
       "  u'profile_image_url': u'http://pbs.twimg.com/profile_images/378800000636588189/7ec00405cb9968fff788f06360d56f2f_normal.jpeg',\n",
       "  u'profile_image_url_https': u'https://pbs.twimg.com/profile_images/378800000636588189/7ec00405cb9968fff788f06360d56f2f_normal.jpeg',\n",
       "  u'profile_link_color': u'0084B4',\n",
       "  u'profile_sidebar_border_color': u'C0DEED',\n",
       "  u'profile_sidebar_fill_color': u'DDEEF6',\n",
       "  u'profile_text_color': u'333333',\n",
       "  u'profile_use_background_image': True,\n",
       "  u'protected': False,\n",
       "  u'screen_name': u'together694',\n",
       "  u'statuses_count': 103481,\n",
       "  u'time_zone': None,\n",
       "  u'url': None,\n",
       "  u'utc_offset': None,\n",
       "  u'verified': False}}"
      ]
     },
     "execution_count": 87,
     "metadata": {},
     "output_type": "execute_result"
    }
   ],
   "source": [
    "#with gzip.GzipFile(jsonfilename, 'r') as fin:        # 4. gzip\n",
    "#    json_bytes = fin.read()                          # 3. bytes (i.e. ascii)\n",
    "#    json_str = json_bytes.decode('ascii')            # 2. string\n",
    "#    data = json.loads(json_str)                      # 1. data\n",
    "\n",
    "#data\n",
    "data = tweets[130]\n",
    "data"
   ]
  },
  {
   "cell_type": "code",
   "execution_count": 91,
   "metadata": {
    "collapsed": false
   },
   "outputs": [],
   "source": [
    "hashtags =  data['entities']['hashtags']\n",
    "hastag_string = [hash_string['text'] for hash_string in hashtags]   # we only want the text in hashtag.\n",
    "mentions =  data['entities']['user_mentions']\n",
    "term = data['text']\n",
    "from_user = data['user']['screen_name']\n",
    "location = data['user']['location']\n",
    "timestamp = data['created_at'] "
   ]
  },
  {
   "cell_type": "code",
   "execution_count": 92,
   "metadata": {
    "collapsed": false
   },
   "outputs": [],
   "source": [
    "dow, month, day, time,_,year = timestamp.split(\" \") ## dow = day of week.  unpacking timestamp into individual vars (or maybe I should do this at the end?  note this is still in unicode)\n",
    "words = term .split(\" \")\n",
    "location_prefix =  ['loc_' + s for s in location.split(\" \")] # append loc_ to each word in location"
   ]
  },
  {
   "cell_type": "code",
   "execution_count": 93,
   "metadata": {
    "collapsed": false,
    "scrolled": true
   },
   "outputs": [
    {
     "data": {
      "text/plain": [
       "[{u'indices': [77, 84], u'text': u'\\u76f8\\u4e92\\u30d5\\u30a9\\u30ed\\u30fc'},\n",
       " {u'indices': [85, 101], u'text': u'sougo_follow_ja'},\n",
       " {u'indices': [102, 107], u'text': u'foll'}]"
      ]
     },
     "execution_count": 93,
     "metadata": {},
     "output_type": "execute_result"
    }
   ],
   "source": [
    "hashtags"
   ]
  },
  {
   "cell_type": "code",
   "execution_count": 94,
   "metadata": {
    "collapsed": false
   },
   "outputs": [
    {
     "data": {
      "text/plain": [
       "[u'\\u76f8\\u4e92\\u30d5\\u30a9\\u30ed\\u30fc', u'sougo_follow_ja', u'foll']"
      ]
     },
     "execution_count": 94,
     "metadata": {},
     "output_type": "execute_result"
    }
   ],
   "source": [
    "hastag_string"
   ]
  },
  {
   "cell_type": "code",
   "execution_count": 60,
   "metadata": {
    "collapsed": false
   },
   "outputs": [
    {
     "name": "stdout",
     "output_type": "stream",
     "text": [
      "empty\n"
     ]
    }
   ],
   "source": [
    "if not hashtags: ## explicit booleaness to check is a list is empty\n",
    "    print \"empty\""
   ]
  },
  {
   "cell_type": "code",
   "execution_count": null,
   "metadata": {
    "collapsed": true
   },
   "outputs": [],
   "source": []
  }
 ],
 "metadata": {
  "kernelspec": {
   "display_name": "Python 2",
   "language": "python",
   "name": "python2"
  },
  "language_info": {
   "codemirror_mode": {
    "name": "ipython",
    "version": 2
   },
   "file_extension": ".py",
   "mimetype": "text/x-python",
   "name": "python",
   "nbconvert_exporter": "python",
   "pygments_lexer": "ipython2",
   "version": "2.7.5"
  }
 },
 "nbformat": 4,
 "nbformat_minor": 2
}
